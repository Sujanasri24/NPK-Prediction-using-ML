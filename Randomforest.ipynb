{
  "nbformat": 4,
  "nbformat_minor": 0,
  "metadata": {
    "colab": {
      "provenance": [],
      "authorship_tag": "ABX9TyN6aSexI0chuW0HcjRu2B3+",
      "include_colab_link": true
    },
    "kernelspec": {
      "name": "python3",
      "display_name": "Python 3"
    },
    "language_info": {
      "name": "python"
    }
  },
  "cells": [
    {
      "cell_type": "markdown",
      "metadata": {
        "id": "view-in-github",
        "colab_type": "text"
      },
      "source": [
        "<a href=\"https://colab.research.google.com/github/Sujanasri24/NPK-Prediction-using-ML/blob/main/Randomforest.ipynb\" target=\"_parent\"><img src=\"https://colab.research.google.com/assets/colab-badge.svg\" alt=\"Open In Colab\"/></a>"
      ]
    },
    {
      "cell_type": "code",
      "execution_count": null,
      "metadata": {
        "id": "cmzWv-Ebut5z"
      },
      "outputs": [],
      "source": [
        "import numpy as np\n",
        "import pandas as pd\n",
        "from sklearn.ensemble import RandomForestRegressor\n",
        "from sklearn.preprocessing import StandardScaler\n",
        "from sklearn.model_selection import train_test_split"
      ]
    },
    {
      "cell_type": "code",
      "source": [
        "# Load the dataset\n",
        "df = pd.read_csv('Crop_recommendation.csv')\n",
        "\n",
        "# Drop the crop name column as it is not needed for prediction\n",
        "df.drop('label', axis=1, inplace=True)"
      ],
      "metadata": {
        "id": "rv9TPoX2u3Ps"
      },
      "execution_count": null,
      "outputs": []
    },
    {
      "cell_type": "code",
      "source": [
        "# Convert all the features to numerics\n",
        "df = df.apply(pd.to_numeric)\n",
        "\n",
        "# Split the data into training and testing sets\n",
        "X_train, X_test, y_train, y_test = train_test_split(df.drop(['N', 'P', 'K'], axis=1), df[['N', 'P', 'K']], test_size=0.25, random_state=42)\n"
      ],
      "metadata": {
        "id": "ygdVEqGHvopH"
      },
      "execution_count": null,
      "outputs": []
    },
    {
      "cell_type": "code",
      "source": [
        "# Create a StandardScaler object\n",
        "scaler = StandardScaler()\n",
        "\n",
        "# Scale the training data\n",
        "X_train_scaled = scaler.fit_transform(X_train)\n",
        "\n",
        "# Scale the test data\n",
        "X_test_scaled = scaler.transform(X_test)"
      ],
      "metadata": {
        "id": "TxE2Upu_wPhI"
      },
      "execution_count": null,
      "outputs": []
    },
    {
      "cell_type": "code",
      "source": [
        "# Define the Random Forest Regressor\n",
        "model = RandomForestRegressor(n_estimators=100, max_depth=5, random_state=42)\n",
        "\n",
        "# Fit the model to the training data\n",
        "model.fit(X_train_scaled, y_train)\n"
      ],
      "metadata": {
        "colab": {
          "base_uri": "https://localhost:8080/"
        },
        "id": "mnct_aSDwyvo",
        "outputId": "52c289f9-8909-4993-a4ad-e1df251964e2"
      },
      "execution_count": null,
      "outputs": [
        {
          "output_type": "execute_result",
          "data": {
            "text/plain": [
              "RandomForestRegressor(max_depth=5, random_state=42)"
            ],
            "text/html": [
              "<style>#sk-container-id-1 {color: black;background-color: white;}#sk-container-id-1 pre{padding: 0;}#sk-container-id-1 div.sk-toggleable {background-color: white;}#sk-container-id-1 label.sk-toggleable__label {cursor: pointer;display: block;width: 100%;margin-bottom: 0;padding: 0.3em;box-sizing: border-box;text-align: center;}#sk-container-id-1 label.sk-toggleable__label-arrow:before {content: \"▸\";float: left;margin-right: 0.25em;color: #696969;}#sk-container-id-1 label.sk-toggleable__label-arrow:hover:before {color: black;}#sk-container-id-1 div.sk-estimator:hover label.sk-toggleable__label-arrow:before {color: black;}#sk-container-id-1 div.sk-toggleable__content {max-height: 0;max-width: 0;overflow: hidden;text-align: left;background-color: #f0f8ff;}#sk-container-id-1 div.sk-toggleable__content pre {margin: 0.2em;color: black;border-radius: 0.25em;background-color: #f0f8ff;}#sk-container-id-1 input.sk-toggleable__control:checked~div.sk-toggleable__content {max-height: 200px;max-width: 100%;overflow: auto;}#sk-container-id-1 input.sk-toggleable__control:checked~label.sk-toggleable__label-arrow:before {content: \"▾\";}#sk-container-id-1 div.sk-estimator input.sk-toggleable__control:checked~label.sk-toggleable__label {background-color: #d4ebff;}#sk-container-id-1 div.sk-label input.sk-toggleable__control:checked~label.sk-toggleable__label {background-color: #d4ebff;}#sk-container-id-1 input.sk-hidden--visually {border: 0;clip: rect(1px 1px 1px 1px);clip: rect(1px, 1px, 1px, 1px);height: 1px;margin: -1px;overflow: hidden;padding: 0;position: absolute;width: 1px;}#sk-container-id-1 div.sk-estimator {font-family: monospace;background-color: #f0f8ff;border: 1px dotted black;border-radius: 0.25em;box-sizing: border-box;margin-bottom: 0.5em;}#sk-container-id-1 div.sk-estimator:hover {background-color: #d4ebff;}#sk-container-id-1 div.sk-parallel-item::after {content: \"\";width: 100%;border-bottom: 1px solid gray;flex-grow: 1;}#sk-container-id-1 div.sk-label:hover label.sk-toggleable__label {background-color: #d4ebff;}#sk-container-id-1 div.sk-serial::before {content: \"\";position: absolute;border-left: 1px solid gray;box-sizing: border-box;top: 0;bottom: 0;left: 50%;z-index: 0;}#sk-container-id-1 div.sk-serial {display: flex;flex-direction: column;align-items: center;background-color: white;padding-right: 0.2em;padding-left: 0.2em;position: relative;}#sk-container-id-1 div.sk-item {position: relative;z-index: 1;}#sk-container-id-1 div.sk-parallel {display: flex;align-items: stretch;justify-content: center;background-color: white;position: relative;}#sk-container-id-1 div.sk-item::before, #sk-container-id-1 div.sk-parallel-item::before {content: \"\";position: absolute;border-left: 1px solid gray;box-sizing: border-box;top: 0;bottom: 0;left: 50%;z-index: -1;}#sk-container-id-1 div.sk-parallel-item {display: flex;flex-direction: column;z-index: 1;position: relative;background-color: white;}#sk-container-id-1 div.sk-parallel-item:first-child::after {align-self: flex-end;width: 50%;}#sk-container-id-1 div.sk-parallel-item:last-child::after {align-self: flex-start;width: 50%;}#sk-container-id-1 div.sk-parallel-item:only-child::after {width: 0;}#sk-container-id-1 div.sk-dashed-wrapped {border: 1px dashed gray;margin: 0 0.4em 0.5em 0.4em;box-sizing: border-box;padding-bottom: 0.4em;background-color: white;}#sk-container-id-1 div.sk-label label {font-family: monospace;font-weight: bold;display: inline-block;line-height: 1.2em;}#sk-container-id-1 div.sk-label-container {text-align: center;}#sk-container-id-1 div.sk-container {/* jupyter's `normalize.less` sets `[hidden] { display: none; }` but bootstrap.min.css set `[hidden] { display: none !important; }` so we also need the `!important` here to be able to override the default hidden behavior on the sphinx rendered scikit-learn.org. See: https://github.com/scikit-learn/scikit-learn/issues/21755 */display: inline-block !important;position: relative;}#sk-container-id-1 div.sk-text-repr-fallback {display: none;}</style><div id=\"sk-container-id-1\" class=\"sk-top-container\"><div class=\"sk-text-repr-fallback\"><pre>RandomForestRegressor(max_depth=5, random_state=42)</pre><b>In a Jupyter environment, please rerun this cell to show the HTML representation or trust the notebook. <br />On GitHub, the HTML representation is unable to render, please try loading this page with nbviewer.org.</b></div><div class=\"sk-container\" hidden><div class=\"sk-item\"><div class=\"sk-estimator sk-toggleable\"><input class=\"sk-toggleable__control sk-hidden--visually\" id=\"sk-estimator-id-1\" type=\"checkbox\" checked><label for=\"sk-estimator-id-1\" class=\"sk-toggleable__label sk-toggleable__label-arrow\">RandomForestRegressor</label><div class=\"sk-toggleable__content\"><pre>RandomForestRegressor(max_depth=5, random_state=42)</pre></div></div></div></div></div>"
            ]
          },
          "metadata": {},
          "execution_count": 5
        }
      ]
    },
    {
      "cell_type": "code",
      "source": [
        "# Make predictions on the test data\n",
        "y_pred = model.predict(X_test_scaled)\n",
        "\n",
        "# Calculate the mean squared error\n",
        "mse = np.mean((y_test - y_pred)**2)\n",
        "\n",
        "# Print the mean squared error\n",
        "print('Mean squared error:', mse)"
      ],
      "metadata": {
        "colab": {
          "base_uri": "https://localhost:8080/"
        },
        "id": "GW38XkRSw9Gi",
        "outputId": "c271fb51-d030-435c-85d9-fd904aae5a70"
      },
      "execution_count": null,
      "outputs": [
        {
          "output_type": "stream",
          "name": "stdout",
          "text": [
            "Mean squared error: N    438.210653\n",
            "P    443.593747\n",
            "K    742.392407\n",
            "dtype: float64\n"
          ]
        },
        {
          "output_type": "stream",
          "name": "stderr",
          "text": [
            "/usr/local/lib/python3.10/dist-packages/numpy/core/fromnumeric.py:3430: FutureWarning: In a future version, DataFrame.mean(axis=None) will return a scalar mean over the entire DataFrame. To retain the old behavior, use 'frame.mean(axis=0)' or just 'frame.mean()'\n",
            "  return mean(axis=axis, dtype=dtype, out=out, **kwargs)\n"
          ]
        }
      ]
    },
    {
      "cell_type": "code",
      "source": [
        "# Get the unknown input\n",
        "unknown_input = np.array([25, 60, 7.5, 100])\n",
        "\n",
        "# Reshape the unknown input\n",
        "unknown_input = np.reshape(unknown_input, (1, 4))\n",
        "\n",
        "# Make a prediction using the trained model\n",
        "prediction = model.predict(unknown_input)\n",
        "\n",
        "# Print the prediction\n",
        "print('Predicted NPK values:', prediction)\n",
        "\n"
      ],
      "metadata": {
        "colab": {
          "base_uri": "https://localhost:8080/"
        },
        "id": "8gBNRozk1TVv",
        "outputId": "3f817ae3-ac05-4f5d-a3f0-cc9f6d80785a"
      },
      "execution_count": null,
      "outputs": [
        {
          "output_type": "stream",
          "name": "stdout",
          "text": [
            "Predicted NPK values: [[40.99265525 37.89812388 36.79811817]]\n"
          ]
        }
      ]
    },
    {
      "cell_type": "code",
      "source": [
        "from sklearn.model_selection import cross_val_score\n",
        "\n",
        "# Perform cross-validation\n",
        "cv_scores = cross_val_score(model, X_train_scaled, y_train, cv=5)\n",
        "\n",
        "# Calculate the average accuracy\n",
        "avg_accuracy = np.mean(cv_scores)\n",
        "\n",
        "# Print the average accuracy\n",
        "print('Average accuracy:', avg_accuracy)\n"
      ],
      "metadata": {
        "colab": {
          "base_uri": "https://localhost:8080/"
        },
        "id": "TTvm1m-R39Md",
        "outputId": "9c78ba70-4142-451d-bb2d-5473620781fd"
      },
      "execution_count": null,
      "outputs": [
        {
          "output_type": "stream",
          "name": "stdout",
          "text": [
            "Average accuracy: 0.6494948029878109\n"
          ]
        }
      ]
    },
    {
      "cell_type": "code",
      "source": [
        "from sklearn.model_selection import GridSearchCV\n",
        "from sklearn.ensemble import RandomForestRegressor\n",
        "\n",
        "# Define the range of values for each hyperparameter\n",
        "param_grid = {\n",
        "    'n_estimators': [100, 200, 500],\n",
        "    'max_depth': [5, 10, 20]\n",
        "}\n",
        "\n",
        "# Create a RandomForestRegressor object\n",
        "model = RandomForestRegressor()\n",
        "\n",
        "# Create a GridSearchCV object\n",
        "grid_search = GridSearchCV(model, param_grid, cv=5, scoring='neg_mean_squared_error')\n",
        "#X_train, X_test, y_train, y_test = train_test_split(df.drop(['N', 'P', 'K'], axis=1), df[['N', 'P', 'K']], test_size=0.25, random_state=42)\n",
        "\n",
        "# Fit the model to the training data\n",
        "grid_search.fit(X_train_scaled, y_train)\n",
        "\n",
        "# Get the best hyperparameters\n",
        "best_params = grid_search.best_params_\n",
        "\n",
        "# Print the best hyperparameters\n",
        "print('Best hyperparameters:', best_params)\n"
      ],
      "metadata": {
        "colab": {
          "base_uri": "https://localhost:8080/"
        },
        "id": "x8Y8cSd54XKG",
        "outputId": "8630c199-60ee-4632-8257-043a082a14df"
      },
      "execution_count": null,
      "outputs": [
        {
          "output_type": "stream",
          "name": "stdout",
          "text": [
            "Best hyperparameters: {'max_depth': 20, 'n_estimators': 200}\n"
          ]
        }
      ]
    },
    {
      "cell_type": "code",
      "source": [
        "# Define the Random Forest Regressor\n",
        "model = RandomForestRegressor(n_estimators=200, max_depth=20, random_state=42)\n",
        "\n",
        "# Fit the model to the training data\n",
        "model.fit(X_train_scaled, y_train)\n"
      ],
      "metadata": {
        "colab": {
          "base_uri": "https://localhost:8080/"
        },
        "id": "45N_VWen9Lh8",
        "outputId": "e4726203-0743-4617-82e9-720d458f4ba9"
      },
      "execution_count": null,
      "outputs": [
        {
          "output_type": "execute_result",
          "data": {
            "text/plain": [
              "RandomForestRegressor(max_depth=20, n_estimators=200, random_state=42)"
            ],
            "text/html": [
              "<style>#sk-container-id-2 {color: black;background-color: white;}#sk-container-id-2 pre{padding: 0;}#sk-container-id-2 div.sk-toggleable {background-color: white;}#sk-container-id-2 label.sk-toggleable__label {cursor: pointer;display: block;width: 100%;margin-bottom: 0;padding: 0.3em;box-sizing: border-box;text-align: center;}#sk-container-id-2 label.sk-toggleable__label-arrow:before {content: \"▸\";float: left;margin-right: 0.25em;color: #696969;}#sk-container-id-2 label.sk-toggleable__label-arrow:hover:before {color: black;}#sk-container-id-2 div.sk-estimator:hover label.sk-toggleable__label-arrow:before {color: black;}#sk-container-id-2 div.sk-toggleable__content {max-height: 0;max-width: 0;overflow: hidden;text-align: left;background-color: #f0f8ff;}#sk-container-id-2 div.sk-toggleable__content pre {margin: 0.2em;color: black;border-radius: 0.25em;background-color: #f0f8ff;}#sk-container-id-2 input.sk-toggleable__control:checked~div.sk-toggleable__content {max-height: 200px;max-width: 100%;overflow: auto;}#sk-container-id-2 input.sk-toggleable__control:checked~label.sk-toggleable__label-arrow:before {content: \"▾\";}#sk-container-id-2 div.sk-estimator input.sk-toggleable__control:checked~label.sk-toggleable__label {background-color: #d4ebff;}#sk-container-id-2 div.sk-label input.sk-toggleable__control:checked~label.sk-toggleable__label {background-color: #d4ebff;}#sk-container-id-2 input.sk-hidden--visually {border: 0;clip: rect(1px 1px 1px 1px);clip: rect(1px, 1px, 1px, 1px);height: 1px;margin: -1px;overflow: hidden;padding: 0;position: absolute;width: 1px;}#sk-container-id-2 div.sk-estimator {font-family: monospace;background-color: #f0f8ff;border: 1px dotted black;border-radius: 0.25em;box-sizing: border-box;margin-bottom: 0.5em;}#sk-container-id-2 div.sk-estimator:hover {background-color: #d4ebff;}#sk-container-id-2 div.sk-parallel-item::after {content: \"\";width: 100%;border-bottom: 1px solid gray;flex-grow: 1;}#sk-container-id-2 div.sk-label:hover label.sk-toggleable__label {background-color: #d4ebff;}#sk-container-id-2 div.sk-serial::before {content: \"\";position: absolute;border-left: 1px solid gray;box-sizing: border-box;top: 0;bottom: 0;left: 50%;z-index: 0;}#sk-container-id-2 div.sk-serial {display: flex;flex-direction: column;align-items: center;background-color: white;padding-right: 0.2em;padding-left: 0.2em;position: relative;}#sk-container-id-2 div.sk-item {position: relative;z-index: 1;}#sk-container-id-2 div.sk-parallel {display: flex;align-items: stretch;justify-content: center;background-color: white;position: relative;}#sk-container-id-2 div.sk-item::before, #sk-container-id-2 div.sk-parallel-item::before {content: \"\";position: absolute;border-left: 1px solid gray;box-sizing: border-box;top: 0;bottom: 0;left: 50%;z-index: -1;}#sk-container-id-2 div.sk-parallel-item {display: flex;flex-direction: column;z-index: 1;position: relative;background-color: white;}#sk-container-id-2 div.sk-parallel-item:first-child::after {align-self: flex-end;width: 50%;}#sk-container-id-2 div.sk-parallel-item:last-child::after {align-self: flex-start;width: 50%;}#sk-container-id-2 div.sk-parallel-item:only-child::after {width: 0;}#sk-container-id-2 div.sk-dashed-wrapped {border: 1px dashed gray;margin: 0 0.4em 0.5em 0.4em;box-sizing: border-box;padding-bottom: 0.4em;background-color: white;}#sk-container-id-2 div.sk-label label {font-family: monospace;font-weight: bold;display: inline-block;line-height: 1.2em;}#sk-container-id-2 div.sk-label-container {text-align: center;}#sk-container-id-2 div.sk-container {/* jupyter's `normalize.less` sets `[hidden] { display: none; }` but bootstrap.min.css set `[hidden] { display: none !important; }` so we also need the `!important` here to be able to override the default hidden behavior on the sphinx rendered scikit-learn.org. See: https://github.com/scikit-learn/scikit-learn/issues/21755 */display: inline-block !important;position: relative;}#sk-container-id-2 div.sk-text-repr-fallback {display: none;}</style><div id=\"sk-container-id-2\" class=\"sk-top-container\"><div class=\"sk-text-repr-fallback\"><pre>RandomForestRegressor(max_depth=20, n_estimators=200, random_state=42)</pre><b>In a Jupyter environment, please rerun this cell to show the HTML representation or trust the notebook. <br />On GitHub, the HTML representation is unable to render, please try loading this page with nbviewer.org.</b></div><div class=\"sk-container\" hidden><div class=\"sk-item\"><div class=\"sk-estimator sk-toggleable\"><input class=\"sk-toggleable__control sk-hidden--visually\" id=\"sk-estimator-id-2\" type=\"checkbox\" checked><label for=\"sk-estimator-id-2\" class=\"sk-toggleable__label sk-toggleable__label-arrow\">RandomForestRegressor</label><div class=\"sk-toggleable__content\"><pre>RandomForestRegressor(max_depth=20, n_estimators=200, random_state=42)</pre></div></div></div></div></div>"
            ]
          },
          "metadata": {},
          "execution_count": 10
        }
      ]
    },
    {
      "cell_type": "code",
      "source": [
        "# Make predictions on the test data\n",
        "y_pred = model.predict(X_test_scaled)\n",
        "\n",
        "# Calculate the mean squared error\n",
        "mse = np.mean((y_test - y_pred)**2)\n",
        "\n",
        "# Print the mean squared error\n",
        "print('Mean squared error:', mse)"
      ],
      "metadata": {
        "colab": {
          "base_uri": "https://localhost:8080/"
        },
        "id": "LdSyZyu99Tim",
        "outputId": "f554361b-5359-4805-ae33-56ca1b89f44e"
      },
      "execution_count": null,
      "outputs": [
        {
          "output_type": "stream",
          "name": "stdout",
          "text": [
            "Mean squared error: N    217.246443\n",
            "P    222.959679\n",
            "K    346.481096\n",
            "dtype: float64\n"
          ]
        },
        {
          "output_type": "stream",
          "name": "stderr",
          "text": [
            "/usr/local/lib/python3.10/dist-packages/numpy/core/fromnumeric.py:3430: FutureWarning: In a future version, DataFrame.mean(axis=None) will return a scalar mean over the entire DataFrame. To retain the old behavior, use 'frame.mean(axis=0)' or just 'frame.mean()'\n",
            "  return mean(axis=axis, dtype=dtype, out=out, **kwargs)\n"
          ]
        }
      ]
    },
    {
      "cell_type": "code",
      "source": [
        "from sklearn.model_selection import cross_val_score\n",
        "\n",
        "# Perform cross-validation\n",
        "cv_scores = cross_val_score(model, X_train, y_train, cv=5)\n",
        "\n",
        "# Calculate the average accuracy\n",
        "avg_accuracy = np.mean(cv_scores)\n",
        "\n",
        "# Print the average accuracy\n",
        "print('Average accuracy:', avg_accuracy)\n"
      ],
      "metadata": {
        "colab": {
          "base_uri": "https://localhost:8080/"
        },
        "id": "OsDNzi219eZw",
        "outputId": "e02c6984-872a-4ff7-a8bf-b02815aea87d"
      },
      "execution_count": null,
      "outputs": [
        {
          "output_type": "stream",
          "name": "stdout",
          "text": [
            "Average accuracy: 0.8205849470234403\n"
          ]
        }
      ]
    },
    {
      "cell_type": "code",
      "source": [
        "from sklearn.metrics import r2_score\n",
        "\n",
        "# Calculate the coefficient of determination\n",
        "r2_score = r2_score(y_test, y_pred)\n",
        "\n",
        "# Print the coefficient of determination\n",
        "print('Coefficient of determination:', r2_score)\n"
      ],
      "metadata": {
        "colab": {
          "base_uri": "https://localhost:8080/"
        },
        "id": "JPtAGok4_Fzg",
        "outputId": "34a6fbc0-8f20-4e38-b498-3d2f68b8bdb0"
      },
      "execution_count": null,
      "outputs": [
        {
          "output_type": "stream",
          "name": "stdout",
          "text": [
            "Coefficient of determination: 0.8253155930991539\n"
          ]
        }
      ]
    },
    {
      "cell_type": "code",
      "source": [
        "from sklearn.metrics import median_absolute_error\n",
        "\n",
        "# Calculate the median absolute error\n",
        "mae = median_absolute_error(y_test, y_pred)\n",
        "\n",
        "# Print the median absolute error\n",
        "print('Median absolute error:', mae)\n"
      ],
      "metadata": {
        "colab": {
          "base_uri": "https://localhost:8080/"
        },
        "id": "pgx3FAWGA198",
        "outputId": "811e5c8e-94f3-4992-977f-56981097460f"
      },
      "execution_count": null,
      "outputs": [
        {
          "output_type": "stream",
          "name": "stdout",
          "text": [
            "Median absolute error: 7.000773809523811\n"
          ]
        }
      ]
    },
    {
      "cell_type": "code",
      "source": [
        "from sklearn.metrics import mean_squared_log_error\n",
        "\n",
        "# Calculate the root mean squared logarithmic error\n",
        "rmsle = np.sqrt(mean_squared_log_error(y_test, y_pred))\n",
        "\n",
        "# Print the root mean squared logarithmic error\n",
        "print('Root mean squared logarithmic error:', rmsle)\n"
      ],
      "metadata": {
        "colab": {
          "base_uri": "https://localhost:8080/"
        },
        "id": "IdS0OzUtA5MS",
        "outputId": "5a732637-6e03-4c0b-f055-e17929ab189a"
      },
      "execution_count": null,
      "outputs": [
        {
          "output_type": "stream",
          "name": "stdout",
          "text": [
            "Root mean squared logarithmic error: 0.46659915608089325\n"
          ]
        }
      ]
    },
    {
      "cell_type": "code",
      "source": [
        "from sklearn.model_selection import cross_val_score\n",
        "\n",
        "# Calculate the adjusted R-squared using cross-validation\n",
        "adjusted_r2_scores = cross_val_score(model, X_train_scaled, y_train, cv=5, scoring='r2')\n",
        "\n",
        "# Print the average adjusted R-squared\n",
        "print('Average adjusted R-squared:', np.mean(adjusted_r2_scores))\n"
      ],
      "metadata": {
        "colab": {
          "base_uri": "https://localhost:8080/"
        },
        "id": "AkSNgF9uA6-N",
        "outputId": "255aff1d-d4ad-4a59-bcb4-03ebd1b4954b"
      },
      "execution_count": null,
      "outputs": [
        {
          "output_type": "stream",
          "name": "stdout",
          "text": [
            "Average adjusted R-squared: 0.8205849470234403\n"
          ]
        }
      ]
    },
    {
      "cell_type": "code",
      "source": [
        "from sklearn.metrics import r2_score\n",
        "\n",
        "# Calculate the multi-output R-squared\n",
        "multi_output_r2_score = r2_score(y_test, y_pred, multioutput='uniform_average')\n",
        "\n",
        "# Print the multi-output R-squared\n",
        "print('Multi-output R-squared:', multi_output_r2_score)\n"
      ],
      "metadata": {
        "colab": {
          "base_uri": "https://localhost:8080/"
        },
        "id": "J5J3QG5KBCFc",
        "outputId": "7445ca03-a65b-4cc3-bf54-62197669bc58"
      },
      "execution_count": null,
      "outputs": [
        {
          "output_type": "stream",
          "name": "stdout",
          "text": [
            "Multi-output R-squared: 0.8253155930991539\n"
          ]
        }
      ]
    },
    {
      "cell_type": "code",
      "source": [
        "import numpy as np\n",
        "\n",
        "# Remove missing values from the input data\n",
        "def remove_missing_values(data):\n",
        "    return data[~np.isnan(data).any(axis=1)]\n",
        "\n",
        "# Remove missing values from the training data\n",
        "X_train_clean = remove_missing_values(X_train)\n",
        "y_train_clean = remove_missing_values(y_train)\n",
        "\n",
        "# Remove missing values from the test data\n",
        "X_test_clean = remove_missing_values(X_test)\n",
        "y_test_clean = remove_missing_values(y_test)\n"
      ],
      "metadata": {
        "id": "0GYxHelCBDfv"
      },
      "execution_count": null,
      "outputs": []
    },
    {
      "cell_type": "code",
      "source": [
        "from scipy.stats import spearmanr\n",
        "\n",
        "# Calculate Spearman's rank correlation coefficient\n",
        "spearman_r, spearman_p = spearmanr(X_train_clean, y_train_clean)\n",
        "\n",
        "# Print the Spearman's rank correlation coefficient and p-value\n",
        "print('Spearman\\'s rank correlation coefficient:', spearman_r)\n",
        "print('Spearman\\'s p-value:', spearman_p)\n"
      ],
      "metadata": {
        "colab": {
          "base_uri": "https://localhost:8080/"
        },
        "id": "8MJJ5APpBI5Z",
        "outputId": "ae87f687-4083-4db0-9489-69da5853d71a"
      },
      "execution_count": null,
      "outputs": [
        {
          "output_type": "stream",
          "name": "stdout",
          "text": [
            "Spearman's rank correlation coefficient: [[ 1.          0.12305039  0.02094176 -0.15422018  0.03409756 -0.14329781\n",
            "  -0.07140671]\n",
            " [ 0.12305039  1.         -0.01391603  0.09504539  0.04986414 -0.32098804\n",
            "   0.27591986]\n",
            " [ 0.02094176 -0.01391603  1.         -0.1741467   0.14214602 -0.13345639\n",
            "  -0.18278366]\n",
            " [-0.15422018  0.09504539 -0.1741467   1.          0.00957292 -0.03581847\n",
            "   0.06911869]\n",
            " [ 0.03409756  0.04986414  0.14214602  0.00957292  1.         -0.16326224\n",
            "   0.20276502]\n",
            " [-0.14329781 -0.32098804 -0.13345639 -0.03581847 -0.16326224  1.\n",
            "   0.1943813 ]\n",
            " [-0.07140671  0.27591986 -0.18278366  0.06911869  0.20276502  0.1943813\n",
            "   1.        ]]\n",
            "Spearman's p-value: [[0.00000000e+00 5.34192169e-07 3.95265647e-01 3.02649972e-10\n",
            "  1.66235293e-01 5.01811127e-09 3.70716163e-03]\n",
            " [5.34192169e-07 0.00000000e+00 5.72161769e-01 1.10366774e-04\n",
            "  4.28452096e-02 7.45287984e-41 3.25194149e-30]\n",
            " [3.95265647e-01 5.72161769e-01 0.00000000e+00 1.05599111e-12\n",
            "  6.66748287e-09 5.29013259e-08 7.30893426e-14]\n",
            " [3.02649972e-10 1.10366774e-04 1.05599111e-12 0.00000000e+00\n",
            "  6.97595791e-01 1.45858425e-01 4.97194009e-03]\n",
            " [1.66235293e-01 4.28452096e-02 6.66748287e-09 6.97595791e-01\n",
            "  0.00000000e+00 2.53154725e-11 9.04869881e-17]\n",
            " [5.01811127e-09 7.45287984e-41 5.29013259e-08 1.45858425e-01\n",
            "  2.53154725e-11 0.00000000e+00 1.64001230e-15]\n",
            " [3.70716163e-03 3.25194149e-30 7.30893426e-14 4.97194009e-03\n",
            "  9.04869881e-17 1.64001230e-15 0.00000000e+00]]\n"
          ]
        }
      ]
    },
    {
      "cell_type": "code",
      "source": [
        "import numpy as np\n",
        "\n",
        "# Remove duplicate values from the input data\n",
        "def remove_duplicate_values(data):\n",
        "    return np.unique(data, axis=0)\n",
        "\n",
        "# Remove duplicate values from the training data\n",
        "X_train_clean = remove_duplicate_values(X_train)\n",
        "y_train_clean = remove_duplicate_values(y_train)\n",
        "\n",
        "# Remove duplicate values from the test data\n",
        "X_test_clean = remove_duplicate_values(X_test)\n",
        "y_test_clean = remove_duplicate_values(y_test)"
      ],
      "metadata": {
        "id": "R2J7cImEBMNC"
      },
      "execution_count": null,
      "outputs": []
    },
    {
      "cell_type": "code",
      "source": [
        "def resize_arrays(X, y):\n",
        "    new_shape = (X.shape[0], y.shape[1])\n",
        "    X_resized = np.resize(X, new_shape)\n",
        "    y_resized = np.resize(y, new_shape)\n",
        "    return X_resized, y_resized\n",
        "\n",
        "# Resize the training data\n",
        "X_train_resized, y_train_resized = resize_arrays(X_train, y_train)\n",
        "\n",
        "# Resize the test data\n",
        "X_test_resized, y_test_resized = resize_arrays(X_test, y_test)"
      ],
      "metadata": {
        "id": "fgFKDuqUBYlB"
      },
      "execution_count": null,
      "outputs": []
    },
    {
      "cell_type": "code",
      "source": [
        "from scipy.stats import kendalltau\n",
        "\n",
        "# Calculate Kendall's tau rank correlation coefficient\n",
        "kendall_tau, kendall_p = kendalltau(X_train_resized, y_train_resized)\n",
        "\n",
        "# Print the Kendall's tau rank correlation coefficient and p-value\n",
        "print('Kendall\\'s tau rank correlation coefficient:', kendall_tau)\n",
        "print('Kendall\\'s p-value:', kendall_p)\n"
      ],
      "metadata": {
        "colab": {
          "base_uri": "https://localhost:8080/"
        },
        "id": "jFT2w3rwBZ1h",
        "outputId": "b2fbf56f-7da8-4be5-d755-ab966d7742b0"
      },
      "execution_count": null,
      "outputs": [
        {
          "output_type": "stream",
          "name": "stdout",
          "text": [
            "Kendall's tau rank correlation coefficient: 0.020517166906105028\n",
            "Kendall's p-value: 0.03131911984319361\n"
          ]
        }
      ]
    }
  ]
}